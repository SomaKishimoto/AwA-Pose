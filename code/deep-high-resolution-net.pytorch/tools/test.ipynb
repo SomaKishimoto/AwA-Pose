{
 "cells": [
  {
   "cell_type": "code",
   "execution_count": 1,
   "id": "6444725f",
   "metadata": {},
   "outputs": [],
   "source": [
    "import pickle\n",
    "import numpy as np"
   ]
  },
  {
   "cell_type": "code",
   "execution_count": 7,
   "id": "f57b0c32",
   "metadata": {},
   "outputs": [],
   "source": [
    "with open('/u/snaha/v6/dataset/AWA/Animals_with_Attributes2/quadruped_keypoints/coco_format/supervised_dataset_val_1.pickle', 'rb') as handle:\n",
    "    data = pickle.load(handle)   "
   ]
  },
  {
   "cell_type": "code",
   "execution_count": 8,
   "id": "fd201c5b",
   "metadata": {},
   "outputs": [
    {
     "data": {
      "text/plain": [
       "dict_keys(['annotations', 'images', 'categories', 'info'])"
      ]
     },
     "execution_count": 8,
     "metadata": {},
     "output_type": "execute_result"
    }
   ],
   "source": [
    "data.keys()"
   ]
  },
  {
   "cell_type": "code",
   "execution_count": 16,
   "id": "f826268d",
   "metadata": {},
   "outputs": [],
   "source": [
    "j = 2"
   ]
  },
  {
   "cell_type": "code",
   "execution_count": 17,
   "id": "289f76ce",
   "metadata": {},
   "outputs": [
    {
     "name": "stdout",
     "output_type": "stream",
     "text": [
      "[318, 203, 2]\n",
      "[282, 148, 2]\n",
      "[331, 203, 2]\n",
      "[374, 148, 2]\n"
     ]
    }
   ],
   "source": [
    "for i in range(0, len(data['annotations'][0]['keypoints']), 3):\n",
    "    crnt_key = data['annotations'][0]['keypoints'][i:i+3]\n",
    "    \n",
    "    if j in [10, 11, 15, 16]:\n",
    "        print(crnt_key)\n",
    "    j += 1\n",
    "    "
   ]
  },
  {
   "cell_type": "code",
   "execution_count": null,
   "id": "8d2ab386",
   "metadata": {},
   "outputs": [],
   "source": []
  }
 ],
 "metadata": {
  "kernelspec": {
   "display_name": "Python 3",
   "language": "python",
   "name": "python3"
  },
  "language_info": {
   "codemirror_mode": {
    "name": "ipython",
    "version": 3
   },
   "file_extension": ".py",
   "mimetype": "text/x-python",
   "name": "python",
   "nbconvert_exporter": "python",
   "pygments_lexer": "ipython3",
   "version": "3.7.7"
  }
 },
 "nbformat": 4,
 "nbformat_minor": 5
}
