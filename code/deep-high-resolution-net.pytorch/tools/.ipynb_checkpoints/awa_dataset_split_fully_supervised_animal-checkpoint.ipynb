{
 "cells": [
  {
   "cell_type": "code",
   "execution_count": 1,
   "metadata": {},
   "outputs": [],
   "source": [
    "from __future__ import absolute_import\n",
    "from __future__ import division\n",
    "from __future__ import print_function\n",
    "%matplotlib inline\n",
    "import argparse\n",
    "import os\n",
    "import pprint\n",
    "import shutil\n",
    "import pickle\n",
    "import cv2\n",
    "from collections import defaultdict\n",
    "import matplotlib.pyplot as plt\n",
    "import numpy as np\n",
    "import random\n",
    "\n",
    "import torch\n",
    "import torch.nn.parallel\n",
    "import torch.backends.cudnn as cudnn\n",
    "import torch.optim\n",
    "import torch.utils.data\n",
    "import torch.utils.data.distributed\n",
    "import torchvision.transforms as transforms\n",
    "#from tensorboardX import SummaryWriter\n",
    "\n",
    "import _init_paths\n",
    "from config import cfg\n",
    "from config import update_config\n",
    "from core.loss import JointsMSELoss\n",
    "from core.function import train\n",
    "from core.function import validate\n",
    "from utils.utils import get_optimizer\n",
    "from utils.utils import save_checkpoint\n",
    "from utils.utils import create_logger\n",
    "from utils.utils import get_model_summary\n",
    "\n",
    "import dataset\n",
    "import models"
   ]
  },
  {
   "cell_type": "code",
   "execution_count": null,
   "metadata": {},
   "outputs": [],
   "source": [
    "animal_list = [\n",
    "     'antelope',\n",
    "     'bobcat',\n",
    "     'buffalo',\n",
    "     'chihuahua',\n",
    "     'collie',\n",
    "     'cow',\n",
    "     'dalmatian',\n",
    "     'deer',\n",
    "     'elephant',\n",
    "     'fox',\n",
    "     'german+shepherd',\n",
    "     'giant+panda',\n",
    "     'giraffe',\n",
    "     'grizzly+bear',\n",
    "     'hippopotamus',\n",
    "     'horse',\n",
    "     'leopard',\n",
    "     'lion',\n",
    "     'moose',\n",
    "     'otter',\n",
    "     'ox',\n",
    "     'persian+cat',\n",
    "     'pig',\n",
    "     'polar+bear',\n",
    "     'rabbit',\n",
    "     'raccoon',\n",
    "     'rhinoceros',\n",
    "     'sheep',\n",
    "     'siamese+cat',\n",
    "     'skunk',\n",
    "     'squirrel',\n",
    "     'tiger',\n",
    "     'weasel',\n",
    "     'wolf',\n",
    "     'zebra']"
   ]
  },
  {
   "cell_type": "code",
   "execution_count": null,
   "metadata": {},
   "outputs": [],
   "source": [
    "print(animal_list)"
   ]
  },
  {
   "cell_type": "code",
   "execution_count": null,
   "metadata": {},
   "outputs": [],
   "source": []
  }
 ],
 "metadata": {
  "kernelspec": {
   "display_name": "Python 3",
   "language": "python",
   "name": "python3"
  },
  "language_info": {
   "codemirror_mode": {
    "name": "ipython",
    "version": 3
   },
   "file_extension": ".py",
   "mimetype": "text/x-python",
   "name": "python",
   "nbconvert_exporter": "python",
   "pygments_lexer": "ipython3",
   "version": "3.7.7"
  }
 },
 "nbformat": 4,
 "nbformat_minor": 4
}
