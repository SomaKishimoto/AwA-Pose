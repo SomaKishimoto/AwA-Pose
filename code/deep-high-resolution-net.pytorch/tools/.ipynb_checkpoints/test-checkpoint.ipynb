{
 "cells": [
  {
   "cell_type": "code",
   "execution_count": 1,
   "id": "85b8ef38",
   "metadata": {},
   "outputs": [],
   "source": [
    "import pickle\n",
    "import numpy as np"
   ]
  },
  {
   "cell_type": "code",
   "execution_count": 7,
   "id": "98767e2d",
   "metadata": {},
   "outputs": [],
   "source": [
    "with open('/u/snaha/v6/dataset/AWA/Animals_with_Attributes2/quadruped_keypoints/coco_format/supervised_dataset_val_1.pickle', 'rb') as handle:\n",
    "    data = pickle.load(handle)   "
   ]
  },
  {
   "cell_type": "code",
   "execution_count": 8,
   "id": "eabd7805",
   "metadata": {},
   "outputs": [
    {
     "data": {
      "text/plain": [
       "dict_keys(['annotations', 'images', 'categories', 'info'])"
      ]
     },
     "execution_count": 8,
     "metadata": {},
     "output_type": "execute_result"
    }
   ],
   "source": [
    "data.keys()"
   ]
  },
  {
   "cell_type": "code",
   "execution_count": null,
   "id": "c63aec29",
   "metadata": {},
   "outputs": [],
   "source": [
    "j = 2"
   ]
  },
  {
   "cell_type": "code",
   "execution_count": 13,
   "id": "6e8f93cf",
   "metadata": {},
   "outputs": [
    {
     "name": "stdout",
     "output_type": "stream",
     "text": [
      "[324, 222, 2]\n",
      "[323, 226, 2]\n",
      "[321, 230, 2]\n",
      "[316, 225, 2]\n",
      "[326, 229, 2]\n",
      "[312, 213, 2]\n",
      "[312, 209, 2]\n",
      "[289, 203, 2]\n",
      "[318, 203, 2]\n",
      "[282, 148, 2]\n",
      "[335, 213, 2]\n",
      "[339, 213, 2]\n",
      "[356, 221, 2]\n",
      "[331, 203, 2]\n",
      "[374, 148, 2]\n",
      "[337, 227, 2]\n",
      "[343, 249, 2]\n",
      "[325, 240, 2]\n",
      "[329, 258, 2]\n",
      "[311, 234, 2]\n",
      "[217, 256, 2]\n",
      "[280, 232, 2]\n",
      "[215, 265, 2]\n",
      "[220, 280, 2]\n",
      "[343, 268, 2]\n",
      "[345, 278, 2]\n",
      "[0, 0, 0]\n",
      "[299, 258, 2]\n",
      "[0, 0, 0]\n",
      "[316, 274, 2]\n",
      "[0, 0, 0]\n",
      "[0, 0, 0]\n",
      "[0, 0, 0]\n",
      "[226, 246, 2]\n",
      "[247, 276, 2]\n",
      "[250, 238, 2]\n",
      "[270, 274, 2]\n",
      "[277, 249, 2]\n",
      "[0, 0, 0]\n"
     ]
    }
   ],
   "source": [
    "for i in range(0, len(data['annotations'][0]['keypoints']), 3):\n",
    "    crnt_key = data['annotations'][0]['keypoints'][i:i+3]\n",
    "    \n",
    "    if j in [10, 11, 15, 16]\n",
    "        print(crnt_key)\n",
    "    j += 1\n",
    "    "
   ]
  },
  {
   "cell_type": "code",
   "execution_count": null,
   "id": "fb88e273",
   "metadata": {},
   "outputs": [],
   "source": []
  }
 ],
 "metadata": {
  "kernelspec": {
   "display_name": "Python 3",
   "language": "python",
   "name": "python3"
  },
  "language_info": {
   "codemirror_mode": {
    "name": "ipython",
    "version": 3
   },
   "file_extension": ".py",
   "mimetype": "text/x-python",
   "name": "python",
   "nbconvert_exporter": "python",
   "pygments_lexer": "ipython3",
   "version": "3.7.7"
  }
 },
 "nbformat": 4,
 "nbformat_minor": 5
}
